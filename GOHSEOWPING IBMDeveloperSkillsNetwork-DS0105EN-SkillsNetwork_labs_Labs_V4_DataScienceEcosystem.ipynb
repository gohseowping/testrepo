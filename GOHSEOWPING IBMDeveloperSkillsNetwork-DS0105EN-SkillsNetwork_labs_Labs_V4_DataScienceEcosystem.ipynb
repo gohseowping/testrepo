{
  "metadata": {
    "language_info": {
      "codemirror_mode": {
        "name": "python",
        "version": 3
      },
      "file_extension": ".py",
      "mimetype": "text/x-python",
      "name": "python",
      "nbconvert_exporter": "python",
      "pygments_lexer": "ipython3",
      "version": "3.8"
    },
    "kernelspec": {
      "name": "python",
      "display_name": "Python (Pyodide)",
      "language": "python"
    }
  },
  "nbformat_minor": 4,
  "nbformat": 4,
  "cells": [
    {
      "cell_type": "markdown",
      "source": "",
      "metadata": {}
    },
    {
      "cell_type": "markdown",
      "source": "* Data Science Tools and Ecosystem",
      "metadata": {}
    },
    {
      "cell_type": "markdown",
      "source": "* In this notebook, Data Science Tools and Ecosystem are summarized.",
      "metadata": {}
    },
    {
      "cell_type": "markdown",
      "source": "* Some of the popular languages that Data Scientists use are:\n    1. Phyton\n    2. Julia\n    3. R\n    4. SQL\n    5. Scala\n    6. Java",
      "metadata": {
        "tags": []
      }
    },
    {
      "cell_type": "markdown",
      "source": "* Some of the commonly used libraries used by Data Scientists include:\n    1. Scientific Computing Libraries in Python - Pandas and Numpy\n    2. Visualization Libraries in Python -Matplotlib abd Seaborne\n    3. Machine Learning Libraries in Python- Scikit learn and Keras\n    4. Deep Learning Libraries in Python -Tensorflow and Pytorch\n    5. Scala Libraries -Vegas and Big DL\n    6. R Libraries - ggplot2, Keras and Tensorflow",
      "metadata": {}
    },
    {
      "cell_type": "markdown",
      "source": "| Data Science Tools |\n| ----------------------- |\n| Jupyter Notebook |\n| Anaconda |\n| Rstudio |",
      "metadata": {}
    },
    {
      "cell_type": "markdown",
      "source": "# Level 1\n## Level 2\n### Level 3 - Below are a few examples of evaluating arithmetic expressions in Python",
      "metadata": {}
    },
    {
      "cell_type": "markdown",
      "source": "*  This a simple arithmetic expression to mutiply then add integers.",
      "metadata": {}
    },
    {
      "cell_type": "code",
      "source": "(3*4) + 5",
      "metadata": {
        "trusted": true
      },
      "execution_count": 31,
      "outputs": [
        {
          "execution_count": 31,
          "output_type": "execute_result",
          "data": {
            "text/plain": "17"
          },
          "metadata": {}
        }
      ]
    },
    {
      "cell_type": "markdown",
      "source": "*This will convert 200 minutes to hours by diving by 60.",
      "metadata": {}
    },
    {
      "cell_type": "code",
      "source": "input =200\nhours = 200 // 60\nminutes = input % 60\n\nprint(\"200 minutes is equal to\", hours, \"hours and\", minutes, \"minutes.\")",
      "metadata": {
        "trusted": true
      },
      "execution_count": 48,
      "outputs": [
        {
          "name": "stdout",
          "text": "200 minutes is equal to 3 hours and 20 minutes.\n",
          "output_type": "stream"
        }
      ]
    },
    {
      "cell_type": "markdown",
      "source": "* Objectives\n- Data Science Integrated Development Enviroment \n- Data Science Languages\n- Data Science Libraries\n- Data Science Tools\n- Data Science Arithemetic functions",
      "metadata": {}
    },
    {
      "cell_type": "markdown",
      "source": "## Author\nGoh Seow Ping",
      "metadata": {}
    },
    {
      "cell_type": "code",
      "source": "",
      "metadata": {},
      "execution_count": null,
      "outputs": []
    }
  ]
}